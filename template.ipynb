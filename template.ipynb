# mount google drive


# google-drive-ocamlfuseのインストール
# https://github.com/astrada/google-drive-ocamlfuse
!apt-get install -y -qq software-properties-common python-software-properties module-init-tools
!add-apt-repository -y ppa:alessandro-strada/ppa 2>&1 > /dev/null
!apt-get update -qq 2>&1 > /dev/null
!apt-get -y install -qq google-drive-ocamlfuse fuse

# Colab用のAuth token作成
from google.colab import auth
auth.authenticate_user()

# Drive FUSE library用のcredential生成
from oauth2client.client import GoogleCredentials
creds = GoogleCredentials.get_application_default()
import getpass
!google-drive-ocamlfuse -headless -id={creds.client_id} -secret={creds.client_secret} < /dev/null 2>&1 | grep URL
vcode = getpass.getpass()
!echo {vcode} | google-drive-ocamlfuse -headless -id={creds.client_id} -secret={creds.client_secret}

!mkdir -p drive
#!google-drive-ocamlfuse drive
!google-drive-ocamlfuse -o nonempty drive

# install tensorbooad lib

!pip install -U tensorboardcolab


from tensorboardcolab import *
import shutil

tbc=TensorBoardColab()

import tensorflow as tf

log_dir = '{}/exe_tensorflow/log'.format('./drive')

###
#
#graph = tf.get_default_graph()
#with tf.summary.FileWriter(log_dir) as writer:
#  writer.add_graph(graph)
#
#
#x = tf.Variable(0., name='X')
#func = (x - 1)**2
#
#optimizer = tf.train.GradientDescentOptimizer(
#  learning_rate=0.1
#)
#
#train_step = optimizer.minimize(func)
#
#with tf.Session() as sess:
#  sess.run(tf.global_variables_initializer())
#  for i in range(20):
#    sess.run(train_step)
#  print('x =', sess.run(x))
#
####


train_writer = tbc.get_writer();
train_writer.add_graph(sess.graph)

train_writer.flush();
tbc.close()
